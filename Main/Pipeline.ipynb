{
 "cells": [
  {
   "attachments": {},
   "cell_type": "markdown",
   "metadata": {},
   "source": [
    "### Import Libraries"
   ]
  },
  {
   "cell_type": "code",
   "execution_count": 6,
   "metadata": {},
   "outputs": [],
   "source": [
    "import pandas as pd\n",
    "import numpy as np\n",
    "import clickhouse_connect\n",
    "from dotenv import dotenv_values"
   ]
  },
  {
   "attachments": {},
   "cell_type": "markdown",
   "metadata": {},
   "source": [
    "### Connect to ClickHouse DB"
   ]
  },
  {
   "cell_type": "code",
   "execution_count": 7,
   "metadata": {},
   "outputs": [],
   "source": [
    "env_vars = dotenv_values('/root/text2sql/Credentials/.env')\n",
    "host = env_vars['host']\n",
    "port = int(env_vars['port'])\n",
    "username = env_vars['user']\n",
    "password = env_vars['password']\n",
    "\n",
    "client = clickhouse_connect.get_client(host=host, port=port, secure=True, username=username, password=password)"
   ]
  },
  {
   "attachments": {},
   "cell_type": "markdown",
   "metadata": {},
   "source": [
    "### Define User Input"
   ]
  },
  {
   "cell_type": "code",
   "execution_count": 99,
   "metadata": {},
   "outputs": [],
   "source": [
    "user_input = \"\"\"\"Get the best ad name by clicks from Facebook, Google, and LinkedIn for 2022 in terms of lowest CPC\"\"\""
   ]
  },
  {
   "attachments": {},
   "cell_type": "markdown",
   "metadata": {},
   "source": [
    "### Import LangChain, LLM, and Create Prompt Template"
   ]
  },
  {
   "cell_type": "code",
   "execution_count": 8,
   "metadata": {},
   "outputs": [
    {
     "name": "stderr",
     "output_type": "stream",
     "text": [
      "/root/text2sql/text2sql_env/lib/python3.10/site-packages/langchain/llms/openai.py:189: UserWarning: You are trying to use a chat model. This way of initializing it is no longer supported. Instead, please use: `from langchain.chat_models import ChatOpenAI`\n",
      "  warnings.warn(\n",
      "/root/text2sql/text2sql_env/lib/python3.10/site-packages/langchain/llms/openai.py:769: UserWarning: You are trying to use a chat model. This way of initializing it is no longer supported. Instead, please use: `from langchain.chat_models import ChatOpenAI`\n",
      "  warnings.warn(\n"
     ]
    }
   ],
   "source": [
    "# OpenAI\n",
    "from langchain.llms import OpenAI\n",
    "from langchain.chains import LLMChain\n",
    "from langchain.prompts import PromptTemplate\n",
    "\n",
    "# API KEY\n",
    "api_key = env_vars['OPENAI_API_KEY']\n",
    "\n",
    "# LLM Model (GPT 3.5-Turbo)\n",
    "llm = OpenAI(model_name='gpt-3.5-turbo', openai_api_key=api_key, temperature=0.0)"
   ]
  },
  {
   "attachments": {},
   "cell_type": "markdown",
   "metadata": {},
   "source": [
    "### Define Context and Additional Contextual Definitions"
   ]
  },
  {
   "cell_type": "code",
   "execution_count": 101,
   "metadata": {},
   "outputs": [],
   "source": [
    "context_query = \"\"\"\n",
    "You are a very experienced data engineer whose job is to write correct SQL queries. Given below is a description of four tables delimited with <>. The descriptions contain information about how tables were created,\n",
    "what are the columns, their types, definitions, references to other tables using Foreign Keys and finally, first three rows as an example. \n",
    "\n",
    "<\n",
    "Table 1: Users (Information about users, their registration date and activity status)\n",
    "\n",
    "CREATE TABLE \"Users\" (\n",
    "    \"UserId\" INTEGER NOT NULL (unique identifier of an user),\n",
    "    \"RegDate\" DATE NOT NULL (date of registration),\n",
    "    \"Status\" NVARCHAR(220) (status of the user: active or passive),\n",
    "    PRIMARY KEY (\"UserId\")\n",
    ")\n",
    "\n",
    "SELECT * FROM \"Users\" LIMIT 3;\n",
    "UserId RegDate Status\n",
    "120\t2023-03-04\tpassive\n",
    "345\t2023-03-19\tactive\n",
    "533\t2021-07-24\tpassive\n",
    ">\n",
    "\n",
    "<\n",
    "Table 2: UserActivity (Information about users visit to the website. It contains history of dates of visitis, channels of visit: direct visit or through clicking an advertisement of marketing campaign. \\ \n",
    "If visit happened by clicking the ad then corresponding campaign Id is also provided.)\n",
    "\n",
    "CREATE TABLE \"UserActivity\" (\n",
    "    \"VisitId\" INTEGER NOT NULL (unique identifier of a user's visit to website),\n",
    "    \"UserId\" INTEGER NOT NULL (Id of an user),\n",
    "    \"VisitDate\" DATE (date of visit),\n",
    "    \"Click\" BOOLEAN (if user visited website after clicking an advertisement of marketing campaign on some platform (Google, LinkedIn, Facebook, Bing) then 1, otherwise 0),\n",
    "    \"CampaignId\" INTEGER (Id of marketing campaign. If user arrived at website directly without advertisement then CampaignId is 999),\n",
    "    PRIMARY KEY (\"VisitId\"),\n",
    "    FOREIGN KEY(\"UserId\") REFERENCES \"Users\" (\"UserId\"),\n",
    "    FOREIGN KEY(\"CampaignId\") REFERENCES \"CampaignActivity\" (\"CampaignId\")\n",
    ")\n",
    "\n",
    "SELECT * FROM \"UserActivity\" LIMIT 3;\n",
    "VisitId UserId VisitDate Click CampaignId\n",
    "23\t5259\t2021-11-27\t1\t25\n",
    "24\t708\t    2023-05-18\t1\t29\n",
    "46\t7601\t2022-11-04\t0\t7\n",
    ">\n",
    "\n",
    "<\n",
    "Table 3: CampaignActivity (Information about unique marketing campaigns with starting and ending dates, cost of campaign and the platform where the advertisements/campaigns are/were running (LinkedIn, Google, Facebook, Bing))\n",
    "\n",
    "CREATE TABLE \"CampaignActivity\" (\n",
    "    \"CampaignId\" INTEGER NOT NULL (unique id of marketing campaign),\n",
    "    \"Platform\" TEXT NOT NULL (a platform/social media where the advertisement/campaign is/was running),\n",
    "    \"AdStartDate\" DATE (start date of advertisement/campaign),\n",
    "    \"AdEndDate\" DATE (end date of advertisement/campaign),\n",
    "    \"Cost\" REAL (cost of given advertisement/campaign in USD),\n",
    "    PRIMARY KEY (\"CampaignId\")\n",
    ")\n",
    "\n",
    "SELECT * FROM \"CampaignActivity\" LIMIT 3;\n",
    "CampaignId Platform AdStartDate AdEndDate Cost\n",
    "1\tGoogle\t 2022-06-22\t 2022-06-27\t154.74\n",
    "2\tFacebook 2023-02-14\t 2023-03-12\t894.79\n",
    "3\tGoogle\t 2022-12-20\t 2023-01-18\t897.17\n",
    ">\n",
    "\n",
    "<\n",
    "TABLE 4: Customers (Information about clients/customers of marketing agency. Customers are not users. Customers pay money to marketing agency for advertisements/campaigns.)\n",
    "\n",
    "CREATE TABLE \"Customers\" (\n",
    "    \"CustomerId\" INTEGER NOT NULL (unique identifier of client/customer),\n",
    "    \"Name\" TEXT NOT NULL (full name of the customer),\n",
    "    \"Email\" TEXT NOT NULL (email of the customer),\n",
    "    \"Status\" TEXT NOT NULL (status of the customer: active or passive),\n",
    "    \"CreatedAt\" DATAE  (date of account creation/registration),\n",
    "    PRIMARY KEY (\"CustomerId\")\n",
    ")\n",
    "\n",
    "SELECT * FROM \"Customers\" LIMIT 3;\n",
    "CustomerId Name Email Status CreatedAt\n",
    "36868\tElla Lewis\tella.lewis@example.com\tinactive\t2022-06-17\n",
    "49449\tAva Miller\tava.miller@example.com\tactive\t    2021-12-18\n",
    "50287\tMichael Rodriguez\tmichael.rodriguez@gmail.com\tinactive\t2022-07-03\n",
    ">\n",
    "\n",
    "Carefully analyze tables above and write proper SQL query for the following instructions delimited by triple backticks ```{user_text}```\n",
    "\n",
    "For the definition of specific terminology you can use following: {def_terminology}\n",
    "\n",
    "Write query in ClickHouse SQL.\n",
    "\n",
    "Do not hallucinate. Don't use columns that aren't available in table. Use joins to other tables to find appropriate columns.\n",
    "\n",
    "result must be just a sql query and nothing else!\n",
    "\"\"\""
   ]
  },
  {
   "cell_type": "code",
   "execution_count": 102,
   "metadata": {},
   "outputs": [],
   "source": [
    "def_terminology = \"\"\"\n",
    "CPC - Cost per Click (calculated as sum of total cost of advertisement/campaign divided by total number of clicks)\n",
    "\"\"\""
   ]
  },
  {
   "attachments": {},
   "cell_type": "markdown",
   "metadata": {},
   "source": [
    "### Check Context Before Generating Query"
   ]
  },
  {
   "cell_type": "code",
   "execution_count": 103,
   "metadata": {},
   "outputs": [],
   "source": [
    "db_context = f\"\"\"\n",
    "<\n",
    "Table 1: Users (Information about users, their registration date and activity status)\n",
    "\n",
    "CREATE TABLE \"Users\" (\n",
    "    \"UserId\" INTEGER NOT NULL (unique identifier of an user),\n",
    "    \"RegDate\" DATE NOT NULL (date of registration),\n",
    "    \"Status\" NVARCHAR(220) (status of the user: active or passive),\n",
    "    PRIMARY KEY (\"UserId\")\n",
    ")\n",
    "\n",
    "SELECT * FROM \"Users\" LIMIT 3;\n",
    "UserId RegDate Status\n",
    "120\t2023-03-04\tpassive\n",
    "345\t2023-03-19\tactive\n",
    "533\t2021-07-24\tpassive\n",
    ">\n",
    "\n",
    "<\n",
    "Table 2: UserActivity (Information about users visit to the website. It contains history of dates of visitis, channels of visit: direct visit or through clicking an advertisement of marketing campaign. \\ \n",
    "If visit happened by clicking the ad then corresponding campaign Id is also provided.)\n",
    "\n",
    "CREATE TABLE \"UserActivity\" (\n",
    "    \"VisitId\" INTEGER NOT NULL (unique identifier of a user's visit to website),\n",
    "    \"UserId\" INTEGER NOT NULL (Id of an user),\n",
    "    \"VisitDate\" DATE (date of visit),\n",
    "    \"Click\" BOOLEAN (if user visited website after clicking an advertisement of marketing campaign on some platform (Google, LinkedIn, Facebook, Bing) then 1, otherwise 0),\n",
    "    \"CampaignId\" INTEGER (Id of marketing campaign. If user arrived at website directly without advertisement then CampaignId is 999),\n",
    "    PRIMARY KEY (\"VisitId\"),\n",
    "    FOREIGN KEY(\"UserId\") REFERENCES \"Users\" (\"UserId\"),\n",
    "    FOREIGN KEY(\"CampaignId\") REFERENCES \"CampaignActivity\" (\"CampaignId\")\n",
    ")\n",
    "\n",
    "SELECT * FROM \"UserActivity\" LIMIT 3;\n",
    "VisitId UserId VisitDate Click CampaignId\n",
    "23\t5259\t2021-11-27\t1\t25\n",
    "24\t708\t    2023-05-18\t1\t29\n",
    "46\t7601\t2022-11-04\t0\t7\n",
    ">\n",
    "\n",
    "<\n",
    "Table 3: CampaignActivity (Information about unique marketing campaigns with starting and ending dates, cost of campaign and the platform where the advertisements/campaigns are/were running (LinkedIn, Google, Facebook, Bing))\n",
    "\n",
    "CREATE TABLE \"CampaignActivity\" (\n",
    "    \"CampaignId\" INTEGER NOT NULL (unique id of marketing campaign),\n",
    "    \"Platform\" TEXT NOT NULL (a platform/social media where the advertisement/campaign is/was running),\n",
    "    \"AdStartDate\" DATE (start date of advertisement/campaign),\n",
    "    \"AdEndDate\" DATE (end date of advertisement/campaign),\n",
    "    \"Cost\" REAL (cost of given advertisement/campaign in USD),\n",
    "    PRIMARY KEY (\"CampaignId\")\n",
    ")\n",
    "\n",
    "SELECT * FROM \"CampaignActivity\" LIMIT 3;\n",
    "CampaignId Platform AdStartDate AdEndDate Cost\n",
    "1\tGoogle\t 2022-06-22\t 2022-06-27\t154.74\n",
    "2\tFacebook 2023-02-14\t 2023-03-12\t894.79\n",
    "3\tGoogle\t 2022-12-20\t 2023-01-18\t897.17\n",
    ">\n",
    "\n",
    "<\n",
    "TABLE 4: Customers (Information about clients/customers of marketing agency. Customers are not users. Customers pay money to marketing agency for advertisements/campaigns.)\n",
    "\n",
    "CREATE TABLE \"Customers\" (\n",
    "    \"CustomerId\" INTEGER NOT NULL (unique identifier of client/customer),\n",
    "    \"Name\" TEXT NOT NULL (full name of the customer),\n",
    "    \"Email\" TEXT NOT NULL (email of the customer),\n",
    "    \"Status\" TEXT NOT NULL (status of the customer: active or passive),\n",
    "    \"CreatedAt\" DATAE  (date of account creation/registration),\n",
    "    PRIMARY KEY (\"CustomerId\")\n",
    ")\n",
    "\n",
    "SELECT * FROM \"Customers\" LIMIT 3;\n",
    "CustomerId Name Email Status CreatedAt\n",
    "36868\tElla Lewis\tella.lewis@example.com\tinactive\t2022-06-17\n",
    "49449\tAva Miller\tava.miller@example.com\tactive\t    2021-12-18\n",
    "50287\tMichael Rodriguez\tmichael.rodriguez@gmail.com\tinactive\t2022-07-03\n",
    ">\n",
    "\n",
    "For the definition of specific terminology you can use following: {def_terminology}\n",
    "\"\"\""
   ]
  },
  {
   "cell_type": "code",
   "execution_count": 104,
   "metadata": {},
   "outputs": [],
   "source": [
    "context_checker = \"\"\"\"\n",
    "You're the best data engineer in the world. You are an expert in analytics and SQL. Given the database tables described in triple backticks ```{db_context}```, can I write SQL query using tables mentiond above to \\\n",
    "asnwer the following question: {user_input}. \n",
    "your answer must be Yes or No and nothing more or less!\n",
    "\"\"\""
   ]
  },
  {
   "cell_type": "code",
   "execution_count": 105,
   "metadata": {},
   "outputs": [
    {
     "name": "stdout",
     "output_type": "stream",
     "text": [
      "Yes.\n"
     ]
    }
   ],
   "source": [
    "prompt_context_checker = PromptTemplate.from_template(context_checker)\n",
    "chain_context = LLMChain(llm=llm, prompt = prompt_context_checker)\n",
    "result_context_checker = chain_context.run(db_context=db_context, user_input=user_input)\n",
    "print(result_context_checker)"
   ]
  },
  {
   "attachments": {},
   "cell_type": "markdown",
   "metadata": {},
   "source": [
    "### Develop Chain for Correct Query Generation"
   ]
  },
  {
   "cell_type": "code",
   "execution_count": 70,
   "metadata": {},
   "outputs": [],
   "source": [
    "prompt_query = PromptTemplate.from_template(context_query)"
   ]
  },
  {
   "cell_type": "code",
   "execution_count": 71,
   "metadata": {},
   "outputs": [],
   "source": [
    "chain_query = LLMChain(llm=llm, prompt = prompt_query)\n",
    "\n",
    "result_query_init = chain_query.run(user_text=user_input, def_terminology=def_terminology)"
   ]
  },
  {
   "cell_type": "code",
   "execution_count": 72,
   "metadata": {},
   "outputs": [
    {
     "name": "stdout",
     "output_type": "stream",
     "text": [
      "SELECT \n",
      "    ca.Platform,\n",
      "    ca.CampaignId,\n",
      "    ca.AdStartDate,\n",
      "    ca.AdEndDate,\n",
      "    SUM(ca.Cost) / COUNT(ua.VisitId) AS CPC\n",
      "FROM \n",
      "    CampaignActivity ca\n",
      "JOIN \n",
      "    UserActivity ua ON ca.CampaignId = ua.CampaignId\n",
      "JOIN \n",
      "    Users u ON ua.UserId = u.UserId\n",
      "WHERE \n",
      "    ca.Platform IN ('Facebook', 'Google', 'LinkedIn') AND\n",
      "    ca.AdStartDate >= '2022-01-01' AND ca.AdEndDate <= '2022-12-31'\n",
      "GROUP BY \n",
      "    ca.Platform,\n",
      "    ca.CampaignId,\n",
      "    ca.AdStartDate,\n",
      "    ca.AdEndDate\n",
      "ORDER BY \n",
      "    CPC ASC\n",
      "LIMIT 1;\n"
     ]
    }
   ],
   "source": [
    "print(result_query_init)"
   ]
  },
  {
   "attachments": {},
   "cell_type": "markdown",
   "metadata": {},
   "source": [
    "### Check The Syntax for Generated Query"
   ]
  },
  {
   "cell_type": "code",
   "execution_count": 94,
   "metadata": {},
   "outputs": [],
   "source": [
    "sanity_check = \"\"\"\n",
    "You're the best data engineer in the world. You are an expert in SQL. Given the SQL query in triple backticks ```{result_query_init}```. \\\n",
    "If the syntax of query is correct then return it without any changes, otherwise make apporpriate changes and return new query.\n",
    "Your output in both cases must be query only!\n",
    "\"\"\""
   ]
  },
  {
   "cell_type": "code",
   "execution_count": 95,
   "metadata": {},
   "outputs": [],
   "source": [
    "prompt_sanity = PromptTemplate.from_template(sanity_check)\n",
    "\n",
    "chain_sanity = LLMChain(llm=llm, prompt = prompt_sanity)\n",
    "\n",
    "result_query_final = chain_sanity.run(result_query_init = result_query_init)"
   ]
  },
  {
   "cell_type": "code",
   "execution_count": 96,
   "metadata": {},
   "outputs": [
    {
     "name": "stdout",
     "output_type": "stream",
     "text": [
      "SELECT \n",
      "    ca.Platform,\n",
      "    ca.CampaignId,\n",
      "    ca.AdStartDate,\n",
      "    ca.AdEndDate,\n",
      "    SUM(ca.Cost) / COUNT(ua.VisitId) AS CPC\n",
      "FROM \n",
      "    CampaignActivity ca\n",
      "JOIN \n",
      "    UserActivity ua ON ca.CampaignId = ua.CampaignId\n",
      "JOIN \n",
      "    Users u ON ua.UserId = u.UserId\n",
      "WHERE \n",
      "    ca.Platform IN ('Facebook', 'Google', 'LinkedIn') AND\n",
      "    ca.AdStartDate >= '2022-01-01' AND ca.AdEndDate <= '2022-12-31'\n",
      "GROUP BY \n",
      "    ca.Platform,\n",
      "    ca.CampaignId,\n",
      "    ca.AdStartDate,\n",
      "    ca.AdEndDate\n",
      "ORDER BY \n",
      "    CPC ASC\n",
      "LIMIT 1;\n"
     ]
    }
   ],
   "source": [
    "print(result_query_final)"
   ]
  },
  {
   "attachments": {},
   "cell_type": "markdown",
   "metadata": {},
   "source": [
    "### Run The Final Query Against Database"
   ]
  },
  {
   "cell_type": "code",
   "execution_count": 97,
   "metadata": {},
   "outputs": [
    {
     "name": "stdout",
     "output_type": "stream",
     "text": [
      "['LinkedIn', '25', '2022-09-26', '2022-10-19', '324.010009765625']\n"
     ]
    }
   ],
   "source": [
    "result_from_db = client.command(result_query_final)\n",
    "print(result_from_db)"
   ]
  },
  {
   "attachments": {},
   "cell_type": "markdown",
   "metadata": {},
   "source": [
    "### Evaluation"
   ]
  },
  {
   "cell_type": "code",
   "execution_count": 44,
   "metadata": {},
   "outputs": [],
   "source": [
    "# Manually checked text and query pairs\n",
    "\n",
    "evaluation_dict = dict({\n",
    "  \"How many customers does the agency have?\": \"SELECT COUNT(*) AS total_customers FROM `Customers`;\",\n",
    "  \"What is the total cost of all marketing campaigns?\": \"SELECT SUM(Cost) AS total_cost FROM `CampaignActivity`;\",\n",
    "  \"How many active users does the platform currently have?\": \"SELECT COUNT(*) AS active_users FROM `Users` WHERE Status = 'active';\",\n",
    "  \"Which campaign generated the highest user activity?\": \"SELECT ca.CampaignId, COUNT(ua.VisitId) AS activity_count FROM `CampaignActivity` AS ca JOIN `UserActivity` AS ua ON ca.CampaignId = ua.CampaignId WHERE ua.VisitDate >= '2021-01-01' AND ua.VisitDate <= '2023-12-31' GROUP BY ca.CampaignId ORDER BY activity_count DESC LIMIT 1;\",\n",
    "  \"What is the total cost of campaigns on each platform?\": \"SELECT Platform, SUM(Cost) AS platform_total_cost FROM `CampaignActivity` WHERE AdStartDate >= '2021-01-01' AND AdEndDate <= '2023-12-31' GROUP BY Platform;\",\n",
    "  \"How many customers were acquired each month?\": \"SELECT toStartOfMonth(CreatedAt) AS month, COUNT(*) AS customer_count FROM `Customers` WHERE CreatedAt >= '2021-01-01' AND CreatedAt <= '2023-12-31' GROUP BY month ORDER BY month;\",\n",
    "  \"What is the average number of visits per user?\": \"WITH user_visits AS (SELECT UserId, COUNT(*) AS visit_count FROM `UserActivity` WHERE VisitDate >= '2021-01-01' AND VisitDate <= '2023-12-31' GROUP BY UserId) SELECT AVG(visit_count) AS average_visits_per_user FROM user_visits;\",\n",
    "  \"Which user has the highest number of visits?\": \"SELECT ua.UserId, COUNT(*) AS visit_count FROM `UserActivity` AS ua WHERE ua.VisitDate >= '2021-01-01' AND ua.VisitDate <= '2023-12-31' GROUP BY ua.UserId ORDER BY visit_count DESC LIMIT 1;\",\n",
    "  \"How many users signed up in each month of the current year?\": \"SELECT toStartOfMonth(RegDate) AS month, COUNT(*) AS signups_per_month FROM `Users` WHERE RegDate >= '2021-01-01' AND RegDate <= '2023-12-31' GROUP BY month ORDER BY month;\",\n",
    "  \"Which customers have not been active in the last 60 days?\": \"SELECT ac.CustomerId, ac.Name FROM `Customers` AS ac LEFT JOIN `UserActivity` AS ua ON ac.CustomerId = ua.UserId WHERE (ua.VisitDate < NOW() - INTERVAL 60 DAY OR ua.VisitDate IS NULL) AND ac.CreatedAt >= '2021-01-01' AND ac.CreatedAt <= '2023-12-31';\",\n",
    "}\n",
    ")"
   ]
  },
  {
   "cell_type": "code",
   "execution_count": 45,
   "metadata": {},
   "outputs": [],
   "source": [
    "# Create a DataFrame from the dictionary\n",
    "df_evaluation = pd.DataFrame(list(evaluation_dict.items()), columns=['Text', 'Query'])"
   ]
  },
  {
   "cell_type": "code",
   "execution_count": 57,
   "metadata": {},
   "outputs": [],
   "source": [
    "# df_evaluation.head()"
   ]
  },
  {
   "cell_type": "code",
   "execution_count": 58,
   "metadata": {},
   "outputs": [],
   "source": [
    "# for query in df_evaluation['Query']:\n",
    "#     print(query)"
   ]
  },
  {
   "cell_type": "code",
   "execution_count": 48,
   "metadata": {},
   "outputs": [],
   "source": [
    "df_evaluation.to_csv('evaluation_dataset.csv')"
   ]
  },
  {
   "cell_type": "code",
   "execution_count": 50,
   "metadata": {},
   "outputs": [
    {
     "name": "stdout",
     "output_type": "stream",
     "text": [
      "100\n",
      "16270.039817810059\n",
      "26\n",
      "['27', '25']\n",
      "['Facebook', '2855.4999618530273\\nBing', '6953.599899291992\\nLinkedIn', '3446.699981689453\\nGoogle', '3014.239974975586']\n",
      "['2021-11-01', '2\\n2021-12-01', '7\\n2022-01-01', '4\\n2022-02-01', '3\\n2022-03-01', '3\\n2022-04-01', '7\\n2022-05-01', '9\\n2022-06-01', '5\\n2022-07-01', '7\\n2022-08-01', '3\\n2022-09-01', '4\\n2022-10-01', '1\\n2022-11-01', '4\\n2022-12-01', '6\\n2023-01-01', '11\\n2023-02-01', '3\\n2023-03-01', '6\\n2023-04-01', '1\\n2023-05-01', '6\\n2023-06-01', '8']\n",
      "20\n",
      "['1839', '30']\n",
      "['2021-01-01', '2\\n2021-02-01', '2\\n2021-03-01', '2\\n2021-06-01', '1\\n2021-07-01', '2\\n2021-08-01', '3\\n2021-09-01', '1\\n2021-11-01', '1\\n2021-12-01', '2\\n2022-01-01', '3\\n2022-02-01', '3\\n2022-03-01', '1\\n2022-04-01', '2\\n2022-05-01', '1\\n2022-06-01', '2\\n2022-09-01', '4\\n2022-10-01', '1\\n2022-12-01', '3\\n2023-01-01', '4\\n2023-02-01', '1\\n2023-03-01', '5\\n2023-04-01', '2\\n2023-05-01', '1\\n2023-06-01', '1']\n",
      "['36868', 'Ella Lewis\\n49449', 'Ava Miller\\n50287', 'Michael Rodriguez\\n50376', 'Benjamin Martinez\\n55809', 'Daniel Johnson\\n62603', 'Emily White\\n65335', 'Benjamin Lee\\n80411', 'James Thomas\\n86082', 'Ella Hall\\n90754', 'Michael Anderson\\n98699', 'Lily Rodriguez\\n103717', 'Charlotte Anderson\\n105930', 'Emily Clark\\n114334', 'Benjamin Miller\\n127265', 'David Jackson\\n130333', 'Lily Moore\\n139632', 'Emily Jackson\\n149054', 'Joseph Allen\\n166881', 'Alice Anderson\\n184654', 'Alexander Allen\\n191006', 'Grace Thompson\\n205383', 'Lucy White\\n206612', 'Alice Anderson\\n213074', 'Joseph Rodriguez\\n223212', 'Lucy White\\n227319', 'William Taylor\\n231010', 'Grace Thompson\\n237024', 'Daniel Moore\\n260748', 'Ava Harris\\n261360', 'Lily Lee\\n268562', 'James Walker\\n273399', 'Daniel Jackson\\n286870', 'David White\\n297045', 'Benjamin Thomas\\n298674', 'Michael Martin\\n298839', 'Robert Martin\\n301467', 'Henry Jackson\\n321279', 'David Walker\\n334204', 'Benjamin Walker\\n357435', 'Charlotte White\\n360374', 'Ava Jackson\\n374819', 'Olivia Smith\\n378077', 'Alice Hall\\n379581', 'Emma Garcia\\n397391', 'Grace Martin\\n399269', 'James Lee\\n408052', 'William Harris\\n419159', 'Emma Smith\\n421834', 'James Johnson\\n443055', 'John Rodriguez\\n445336', 'William Davis\\n455067', 'Lily Lee\\n457115', 'David Johnson\\n462790', 'Henry Brown\\n479531', 'William Moore\\n479913', 'Grace Clark\\n496791', 'John Johnson\\n503722', 'David Lewis\\n510334', 'Alice Harris\\n520625', 'David Wilson\\n527874', 'Michael Martinez\\n529960', 'Benjamin Thomas\\n538882', 'Daniel Moore\\n543397', 'Ava Thomas\\n549294', 'Robert Walker\\n571156', 'Andrew Walker\\n573957', 'Robert Allen\\n593231', 'Andrew Allen\\n602120', 'William Walker\\n671279', 'Mia Smith\\n673603', 'Henry Robinson\\n688115', 'Benjamin Walker\\n689699', 'Robert Brown\\n746013', 'Ella Hall\\n749651', 'Lily Davis\\n770855', 'Daniel Lewis\\n780625', 'Lily Martinez\\n808169', 'James Jackson\\n808785', 'Michael Davis\\n832813', 'Olivia Taylor\\n857740', 'James Smith\\n881752', 'Emma Robinson\\n890023', 'William Brown\\n916437', 'Lucy White\\n916485', 'Charlotte Smith\\n927939', 'Emma Moore\\n929230', 'Charlotte White\\n929761', 'Robert Clark\\n933859', 'Mia Davis\\n938692', 'Sophia Moore\\n946176', 'Robert Lee\\n948158', 'William Martinez\\n954014', 'Henry Martin\\n956491', 'Olivia Thomas\\n956840', 'Andrew Garcia\\n956886', 'Sophia Walker\\n978304', 'Lucy Martinez\\n988273', 'John Davis\\n992644', 'Joseph Thompson\\n999842', 'Ella Jackson']\n"
     ]
    }
   ],
   "source": [
    "correct_output = []\n",
    "\n",
    "for input_query in df_evaluation['Query']:\n",
    "    corr_output = client.command(input_query)\n",
    "    correct_output.append(corr_output)\n",
    "\n",
    "\n",
    "for t in correct_output:\n",
    "    print(t)"
   ]
  },
  {
   "cell_type": "code",
   "execution_count": 56,
   "metadata": {},
   "outputs": [
    {
     "data": {
      "text/html": [
       "<div>\n",
       "<style scoped>\n",
       "    .dataframe tbody tr th:only-of-type {\n",
       "        vertical-align: middle;\n",
       "    }\n",
       "\n",
       "    .dataframe tbody tr th {\n",
       "        vertical-align: top;\n",
       "    }\n",
       "\n",
       "    .dataframe thead th {\n",
       "        text-align: right;\n",
       "    }\n",
       "</style>\n",
       "<table border=\"1\" class=\"dataframe\">\n",
       "  <thead>\n",
       "    <tr style=\"text-align: right;\">\n",
       "      <th></th>\n",
       "      <th>Text</th>\n",
       "      <th>Query</th>\n",
       "      <th>CorrectOutput</th>\n",
       "    </tr>\n",
       "  </thead>\n",
       "  <tbody>\n",
       "    <tr>\n",
       "      <th>0</th>\n",
       "      <td>How many customers does the agency have?</td>\n",
       "      <td>SELECT COUNT(*) AS total_customers FROM `Custo...</td>\n",
       "      <td>100</td>\n",
       "    </tr>\n",
       "    <tr>\n",
       "      <th>1</th>\n",
       "      <td>What is the total cost of all marketing campai...</td>\n",
       "      <td>SELECT SUM(Cost) AS total_cost FROM `CampaignA...</td>\n",
       "      <td>16270.039817810059</td>\n",
       "    </tr>\n",
       "    <tr>\n",
       "      <th>2</th>\n",
       "      <td>How many active users does the platform curren...</td>\n",
       "      <td>SELECT COUNT(*) AS active_users FROM `Users` W...</td>\n",
       "      <td>26</td>\n",
       "    </tr>\n",
       "    <tr>\n",
       "      <th>3</th>\n",
       "      <td>Which campaign generated the highest user acti...</td>\n",
       "      <td>SELECT ca.CampaignId, COUNT(ua.VisitId) AS act...</td>\n",
       "      <td>[27, 25]</td>\n",
       "    </tr>\n",
       "    <tr>\n",
       "      <th>4</th>\n",
       "      <td>What is the total cost of campaigns on each pl...</td>\n",
       "      <td>SELECT Platform, SUM(Cost) AS platform_total_c...</td>\n",
       "      <td>[Facebook, 2855.4999618530273\\nBing, 6953.5998...</td>\n",
       "    </tr>\n",
       "    <tr>\n",
       "      <th>5</th>\n",
       "      <td>How many customers were acquired each month?</td>\n",
       "      <td>SELECT toStartOfMonth(CreatedAt) AS month, COU...</td>\n",
       "      <td>[2021-11-01, 2\\n2021-12-01, 7\\n2022-01-01, 4\\n...</td>\n",
       "    </tr>\n",
       "    <tr>\n",
       "      <th>6</th>\n",
       "      <td>What is the average number of visits per user?</td>\n",
       "      <td>WITH user_visits AS (SELECT UserId, COUNT(*) A...</td>\n",
       "      <td>20</td>\n",
       "    </tr>\n",
       "    <tr>\n",
       "      <th>7</th>\n",
       "      <td>Which user has the highest number of visits?</td>\n",
       "      <td>SELECT ua.UserId, COUNT(*) AS visit_count FROM...</td>\n",
       "      <td>[1839, 30]</td>\n",
       "    </tr>\n",
       "    <tr>\n",
       "      <th>8</th>\n",
       "      <td>How many users signed up in each month of the ...</td>\n",
       "      <td>SELECT toStartOfMonth(RegDate) AS month, COUNT...</td>\n",
       "      <td>[2021-01-01, 2\\n2021-02-01, 2\\n2021-03-01, 2\\n...</td>\n",
       "    </tr>\n",
       "    <tr>\n",
       "      <th>9</th>\n",
       "      <td>Which customers have not been active in the la...</td>\n",
       "      <td>SELECT ac.CustomerId, ac.Name FROM `Customers`...</td>\n",
       "      <td>[36868, Ella Lewis\\n49449, Ava Miller\\n50287, ...</td>\n",
       "    </tr>\n",
       "  </tbody>\n",
       "</table>\n",
       "</div>"
      ],
      "text/plain": [
       "                                                Text  \\\n",
       "0           How many customers does the agency have?   \n",
       "1  What is the total cost of all marketing campai...   \n",
       "2  How many active users does the platform curren...   \n",
       "3  Which campaign generated the highest user acti...   \n",
       "4  What is the total cost of campaigns on each pl...   \n",
       "5       How many customers were acquired each month?   \n",
       "6     What is the average number of visits per user?   \n",
       "7       Which user has the highest number of visits?   \n",
       "8  How many users signed up in each month of the ...   \n",
       "9  Which customers have not been active in the la...   \n",
       "\n",
       "                                               Query  \\\n",
       "0  SELECT COUNT(*) AS total_customers FROM `Custo...   \n",
       "1  SELECT SUM(Cost) AS total_cost FROM `CampaignA...   \n",
       "2  SELECT COUNT(*) AS active_users FROM `Users` W...   \n",
       "3  SELECT ca.CampaignId, COUNT(ua.VisitId) AS act...   \n",
       "4  SELECT Platform, SUM(Cost) AS platform_total_c...   \n",
       "5  SELECT toStartOfMonth(CreatedAt) AS month, COU...   \n",
       "6  WITH user_visits AS (SELECT UserId, COUNT(*) A...   \n",
       "7  SELECT ua.UserId, COUNT(*) AS visit_count FROM...   \n",
       "8  SELECT toStartOfMonth(RegDate) AS month, COUNT...   \n",
       "9  SELECT ac.CustomerId, ac.Name FROM `Customers`...   \n",
       "\n",
       "                                       CorrectOutput  \n",
       "0                                                100  \n",
       "1                                 16270.039817810059  \n",
       "2                                                 26  \n",
       "3                                           [27, 25]  \n",
       "4  [Facebook, 2855.4999618530273\\nBing, 6953.5998...  \n",
       "5  [2021-11-01, 2\\n2021-12-01, 7\\n2022-01-01, 4\\n...  \n",
       "6                                                 20  \n",
       "7                                         [1839, 30]  \n",
       "8  [2021-01-01, 2\\n2021-02-01, 2\\n2021-03-01, 2\\n...  \n",
       "9  [36868, Ella Lewis\\n49449, Ava Miller\\n50287, ...  "
      ]
     },
     "execution_count": 56,
     "metadata": {},
     "output_type": "execute_result"
    }
   ],
   "source": [
    "# Evaluation dataframe: Version 2\n",
    "df_evaluation_v2 = df_evaluation.copy()\n",
    "df_evaluation_v2['CorrectOutput'] = correct_output\n",
    "df_evaluation_v2.head(10)"
   ]
  },
  {
   "cell_type": "code",
   "execution_count": 62,
   "metadata": {},
   "outputs": [
    {
     "data": {
      "text/html": [
       "<div>\n",
       "<style scoped>\n",
       "    .dataframe tbody tr th:only-of-type {\n",
       "        vertical-align: middle;\n",
       "    }\n",
       "\n",
       "    .dataframe tbody tr th {\n",
       "        vertical-align: top;\n",
       "    }\n",
       "\n",
       "    .dataframe thead th {\n",
       "        text-align: right;\n",
       "    }\n",
       "</style>\n",
       "<table border=\"1\" class=\"dataframe\">\n",
       "  <thead>\n",
       "    <tr style=\"text-align: right;\">\n",
       "      <th></th>\n",
       "      <th>Unnamed: 0</th>\n",
       "      <th>Text</th>\n",
       "      <th>Prediction</th>\n",
       "    </tr>\n",
       "  </thead>\n",
       "  <tbody>\n",
       "    <tr>\n",
       "      <th>0</th>\n",
       "      <td>0</td>\n",
       "      <td>How many customers does the agency have?</td>\n",
       "      <td>100</td>\n",
       "    </tr>\n",
       "    <tr>\n",
       "      <th>1</th>\n",
       "      <td>1</td>\n",
       "      <td>What is the total cost of all marketing campai...</td>\n",
       "      <td>16270.039817810059</td>\n",
       "    </tr>\n",
       "    <tr>\n",
       "      <th>2</th>\n",
       "      <td>2</td>\n",
       "      <td>How many active users does the platform curren...</td>\n",
       "      <td>Error ('Connection aborted.', RemoteDisconnect...</td>\n",
       "    </tr>\n",
       "    <tr>\n",
       "      <th>3</th>\n",
       "      <td>3</td>\n",
       "      <td>Which campaign generated the highest user acti...</td>\n",
       "      <td>['999', '531']</td>\n",
       "    </tr>\n",
       "    <tr>\n",
       "      <th>4</th>\n",
       "      <td>4</td>\n",
       "      <td>What is the total cost of campaigns on each pl...</td>\n",
       "      <td>['Facebook', '41821.369300842285', '572.895469...</td>\n",
       "    </tr>\n",
       "    <tr>\n",
       "      <th>5</th>\n",
       "      <td>5</td>\n",
       "      <td>How many customers were acquired each month?</td>\n",
       "      <td>['2021-11-01', '2\\n2021-12-01', '7\\n2022-01-01...</td>\n",
       "    </tr>\n",
       "    <tr>\n",
       "      <th>6</th>\n",
       "      <td>6</td>\n",
       "      <td>What is the average number of visits per user?</td>\n",
       "      <td>20</td>\n",
       "    </tr>\n",
       "    <tr>\n",
       "      <th>7</th>\n",
       "      <td>7</td>\n",
       "      <td>Which user has the highest number of visits?</td>\n",
       "      <td>['1839', '30']</td>\n",
       "    </tr>\n",
       "    <tr>\n",
       "      <th>8</th>\n",
       "      <td>8</td>\n",
       "      <td>How many users signed up in each month of the ...</td>\n",
       "      <td>:HTTPDriver for https://ppio7dt65z.europe-west...</td>\n",
       "    </tr>\n",
       "    <tr>\n",
       "      <th>9</th>\n",
       "      <td>9</td>\n",
       "      <td>Which customers have not been active in the la...</td>\n",
       "      <td>['Ella Lewis', 'ella.lewis@example.com\\nAva Mi...</td>\n",
       "    </tr>\n",
       "  </tbody>\n",
       "</table>\n",
       "</div>"
      ],
      "text/plain": [
       "   Unnamed: 0                                               Text  \\\n",
       "0           0           How many customers does the agency have?   \n",
       "1           1  What is the total cost of all marketing campai...   \n",
       "2           2  How many active users does the platform curren...   \n",
       "3           3  Which campaign generated the highest user acti...   \n",
       "4           4  What is the total cost of campaigns on each pl...   \n",
       "5           5       How many customers were acquired each month?   \n",
       "6           6     What is the average number of visits per user?   \n",
       "7           7       Which user has the highest number of visits?   \n",
       "8           8  How many users signed up in each month of the ...   \n",
       "9           9  Which customers have not been active in the la...   \n",
       "\n",
       "                                          Prediction  \n",
       "0                                                100  \n",
       "1                                 16270.039817810059  \n",
       "2  Error ('Connection aborted.', RemoteDisconnect...  \n",
       "3                                     ['999', '531']  \n",
       "4  ['Facebook', '41821.369300842285', '572.895469...  \n",
       "5  ['2021-11-01', '2\\n2021-12-01', '7\\n2022-01-01...  \n",
       "6                                                 20  \n",
       "7                                     ['1839', '30']  \n",
       "8  :HTTPDriver for https://ppio7dt65z.europe-west...  \n",
       "9  ['Ella Lewis', 'ella.lewis@example.com\\nAva Mi...  "
      ]
     },
     "execution_count": 62,
     "metadata": {},
     "output_type": "execute_result"
    }
   ],
   "source": [
    "# Predition Dataframe\n",
    "df_prediction = pd.read_csv('df_prediction.csv')\n",
    "df_prediction.head(10)"
   ]
  },
  {
   "cell_type": "code",
   "execution_count": 63,
   "metadata": {},
   "outputs": [],
   "source": [
    "# Define propmpt\n",
    "evaluation_promp = \"\"\" \n",
    "I have manually checked output of SQL query that I wrote. I also have an output that was generated by LLM model using writing appropriate SQL query. I want you to take these two outputs delimited by <>, \\\n",
    "compare them to each other and if they are the same then return True other False.\n",
    "\n",
    "input 1: <{manual_output}>\n",
    "input 2: <{model_output}>\n",
    "\n",
    "Remember, return only True or False and nothing else. No other text, comment, assessment, suggestion etc. Either True or False!\n",
    "\"\"\""
   ]
  },
  {
   "cell_type": "code",
   "execution_count": 65,
   "metadata": {},
   "outputs": [],
   "source": [
    "# Define a prompt template\n",
    "prompt_evaluation = PromptTemplate.from_template(evaluation_promp)\n",
    "chain_evaluation = LLMChain(llm=llm, prompt = prompt_evaluation)"
   ]
  },
  {
   "cell_type": "code",
   "execution_count": 68,
   "metadata": {},
   "outputs": [
    {
     "data": {
      "text/plain": [
       "(Index(['Unnamed: 0', 'Text', 'Prediction'], dtype='object'),\n",
       " Index(['Text', 'Query', 'CorrectOutput'], dtype='object'))"
      ]
     },
     "execution_count": 68,
     "metadata": {},
     "output_type": "execute_result"
    }
   ],
   "source": [
    "df_prediction.columns, df_evaluation_v2.columns"
   ]
  },
  {
   "cell_type": "code",
   "execution_count": 72,
   "metadata": {},
   "outputs": [
    {
     "name": "stdout",
     "output_type": "stream",
     "text": [
      "manual_output: 100\n",
      "manual_output: 16270.039817810059\n",
      "manual_output: 26\n",
      "manual_output: ['27', '25']\n",
      "manual_output: ['Facebook', '2855.4999618530273\\nBing', '6953.599899291992\\nLinkedIn', '3446.699981689453\\nGoogle', '3014.239974975586']\n",
      "manual_output: ['2021-11-01', '2\\n2021-12-01', '7\\n2022-01-01', '4\\n2022-02-01', '3\\n2022-03-01', '3\\n2022-04-01', '7\\n2022-05-01', '9\\n2022-06-01', '5\\n2022-07-01', '7\\n2022-08-01', '3\\n2022-09-01', '4\\n2022-10-01', '1\\n2022-11-01', '4\\n2022-12-01', '6\\n2023-01-01', '11\\n2023-02-01', '3\\n2023-03-01', '6\\n2023-04-01', '1\\n2023-05-01', '6\\n2023-06-01', '8']\n",
      "manual_output: 20\n",
      "manual_output: ['1839', '30']\n",
      "manual_output: ['2021-01-01', '2\\n2021-02-01', '2\\n2021-03-01', '2\\n2021-06-01', '1\\n2021-07-01', '2\\n2021-08-01', '3\\n2021-09-01', '1\\n2021-11-01', '1\\n2021-12-01', '2\\n2022-01-01', '3\\n2022-02-01', '3\\n2022-03-01', '1\\n2022-04-01', '2\\n2022-05-01', '1\\n2022-06-01', '2\\n2022-09-01', '4\\n2022-10-01', '1\\n2022-12-01', '3\\n2023-01-01', '4\\n2023-02-01', '1\\n2023-03-01', '5\\n2023-04-01', '2\\n2023-05-01', '1\\n2023-06-01', '1']\n",
      "manual_output: ['36868', 'Ella Lewis\\n49449', 'Ava Miller\\n50287', 'Michael Rodriguez\\n50376', 'Benjamin Martinez\\n55809', 'Daniel Johnson\\n62603', 'Emily White\\n65335', 'Benjamin Lee\\n80411', 'James Thomas\\n86082', 'Ella Hall\\n90754', 'Michael Anderson\\n98699', 'Lily Rodriguez\\n103717', 'Charlotte Anderson\\n105930', 'Emily Clark\\n114334', 'Benjamin Miller\\n127265', 'David Jackson\\n130333', 'Lily Moore\\n139632', 'Emily Jackson\\n149054', 'Joseph Allen\\n166881', 'Alice Anderson\\n184654', 'Alexander Allen\\n191006', 'Grace Thompson\\n205383', 'Lucy White\\n206612', 'Alice Anderson\\n213074', 'Joseph Rodriguez\\n223212', 'Lucy White\\n227319', 'William Taylor\\n231010', 'Grace Thompson\\n237024', 'Daniel Moore\\n260748', 'Ava Harris\\n261360', 'Lily Lee\\n268562', 'James Walker\\n273399', 'Daniel Jackson\\n286870', 'David White\\n297045', 'Benjamin Thomas\\n298674', 'Michael Martin\\n298839', 'Robert Martin\\n301467', 'Henry Jackson\\n321279', 'David Walker\\n334204', 'Benjamin Walker\\n357435', 'Charlotte White\\n360374', 'Ava Jackson\\n374819', 'Olivia Smith\\n378077', 'Alice Hall\\n379581', 'Emma Garcia\\n397391', 'Grace Martin\\n399269', 'James Lee\\n408052', 'William Harris\\n419159', 'Emma Smith\\n421834', 'James Johnson\\n443055', 'John Rodriguez\\n445336', 'William Davis\\n455067', 'Lily Lee\\n457115', 'David Johnson\\n462790', 'Henry Brown\\n479531', 'William Moore\\n479913', 'Grace Clark\\n496791', 'John Johnson\\n503722', 'David Lewis\\n510334', 'Alice Harris\\n520625', 'David Wilson\\n527874', 'Michael Martinez\\n529960', 'Benjamin Thomas\\n538882', 'Daniel Moore\\n543397', 'Ava Thomas\\n549294', 'Robert Walker\\n571156', 'Andrew Walker\\n573957', 'Robert Allen\\n593231', 'Andrew Allen\\n602120', 'William Walker\\n671279', 'Mia Smith\\n673603', 'Henry Robinson\\n688115', 'Benjamin Walker\\n689699', 'Robert Brown\\n746013', 'Ella Hall\\n749651', 'Lily Davis\\n770855', 'Daniel Lewis\\n780625', 'Lily Martinez\\n808169', 'James Jackson\\n808785', 'Michael Davis\\n832813', 'Olivia Taylor\\n857740', 'James Smith\\n881752', 'Emma Robinson\\n890023', 'William Brown\\n916437', 'Lucy White\\n916485', 'Charlotte Smith\\n927939', 'Emma Moore\\n929230', 'Charlotte White\\n929761', 'Robert Clark\\n933859', 'Mia Davis\\n938692', 'Sophia Moore\\n946176', 'Robert Lee\\n948158', 'William Martinez\\n954014', 'Henry Martin\\n956491', 'Olivia Thomas\\n956840', 'Andrew Garcia\\n956886', 'Sophia Walker\\n978304', 'Lucy Martinez\\n988273', 'John Davis\\n992644', 'Joseph Thompson\\n999842', 'Ella Jackson']\n"
     ]
    }
   ],
   "source": [
    "for manual_output, model_output in zip(df_evaluation_v2['CorrectOutput'].to_list(), df_prediction['Prediction'].to_list()):\n",
    "    print(\"manual_output:\", manual_output)\n",
    "    print(\"model_output:\" , model_output)"
   ]
  },
  {
   "cell_type": "code",
   "execution_count": 73,
   "metadata": {},
   "outputs": [],
   "source": [
    "res_evaluation = []\n",
    "for manual_output, model_output in zip(df_evaluation_v2['CorrectOutput'].to_list(), df_prediction['Prediction'].to_list()):\n",
    "    result_context_checker = chain_context.run(manual_output=manual_output, model_output=model_output)\n",
    "    res_evaluation.append(result_context_checker)"
   ]
  },
  {
   "cell_type": "code",
   "execution_count": 74,
   "metadata": {},
   "outputs": [
    {
     "data": {
      "text/plain": [
       "['True',\n",
       " 'True',\n",
       " 'False',\n",
       " 'False',\n",
       " 'False',\n",
       " 'True',\n",
       " 'True',\n",
       " 'True',\n",
       " 'False',\n",
       " 'False']"
      ]
     },
     "execution_count": 74,
     "metadata": {},
     "output_type": "execute_result"
    }
   ],
   "source": [
    "res_evaluation"
   ]
  }
 ],
 "metadata": {
  "kernelspec": {
   "display_name": "text2sql_env",
   "language": "python",
   "name": "python3"
  },
  "language_info": {
   "codemirror_mode": {
    "name": "ipython",
    "version": 3
   },
   "file_extension": ".py",
   "mimetype": "text/x-python",
   "name": "python",
   "nbconvert_exporter": "python",
   "pygments_lexer": "ipython3",
   "version": "3.10.11"
  },
  "orig_nbformat": 4
 },
 "nbformat": 4,
 "nbformat_minor": 2
}
