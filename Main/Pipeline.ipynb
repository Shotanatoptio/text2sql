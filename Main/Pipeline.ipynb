{
 "cells": [
  {
   "attachments": {},
   "cell_type": "markdown",
   "metadata": {},
   "source": [
    "### Import Libraries"
   ]
  },
  {
   "cell_type": "code",
   "execution_count": 3,
   "metadata": {},
   "outputs": [],
   "source": [
    "import pandas as pd\n",
    "import numpy as np\n",
    "import clickhouse_connect\n",
    "from dotenv import dotenv_values"
   ]
  },
  {
   "attachments": {},
   "cell_type": "markdown",
   "metadata": {},
   "source": [
    "### Connect to ClickHouse DB"
   ]
  },
  {
   "cell_type": "code",
   "execution_count": 4,
   "metadata": {},
   "outputs": [],
   "source": [
    "env_vars = dotenv_values('/root/text2sql/Credentials/.env')\n",
    "host = env_vars['host']\n",
    "port = int(env_vars['port'])\n",
    "username = env_vars['user']\n",
    "password = env_vars['password']\n",
    "\n",
    "client = clickhouse_connect.get_client(host=host, port=port, secure=True, username=username, password=password)"
   ]
  },
  {
   "attachments": {},
   "cell_type": "markdown",
   "metadata": {},
   "source": [
    "### Define User Input"
   ]
  },
  {
   "cell_type": "code",
   "execution_count": 99,
   "metadata": {},
   "outputs": [],
   "source": [
    "user_input = \"\"\"\"Get the best ad name by clicks from Facebook, Google, and LinkedIn for 2022 in terms of lowest CPC\"\"\""
   ]
  },
  {
   "attachments": {},
   "cell_type": "markdown",
   "metadata": {},
   "source": [
    "### Import LangChain, LLM, and Create Prompt Template"
   ]
  },
  {
   "cell_type": "code",
   "execution_count": 100,
   "metadata": {},
   "outputs": [
    {
     "name": "stderr",
     "output_type": "stream",
     "text": [
      "/root/text2sql/text2sql_env/lib/python3.10/site-packages/langchain/llms/openai.py:189: UserWarning: You are trying to use a chat model. This way of initializing it is no longer supported. Instead, please use: `from langchain.chat_models import ChatOpenAI`\n",
      "  warnings.warn(\n",
      "/root/text2sql/text2sql_env/lib/python3.10/site-packages/langchain/llms/openai.py:769: UserWarning: You are trying to use a chat model. This way of initializing it is no longer supported. Instead, please use: `from langchain.chat_models import ChatOpenAI`\n",
      "  warnings.warn(\n"
     ]
    }
   ],
   "source": [
    "# OpenAI\n",
    "from langchain.llms import OpenAI\n",
    "from langchain.chains import LLMChain\n",
    "from langchain.prompts import PromptTemplate\n",
    "\n",
    "# API KEY\n",
    "api_key = env_vars['OPENAI_API_KEY']\n",
    "\n",
    "# LLM Model (GPT 3.5-Turbo)\n",
    "llm = OpenAI(model_name='gpt-3.5-turbo', openai_api_key=api_key, temperature=0.0)"
   ]
  },
  {
   "attachments": {},
   "cell_type": "markdown",
   "metadata": {},
   "source": [
    "### Define Context and Additional Contextual Definitions"
   ]
  },
  {
   "cell_type": "code",
   "execution_count": 101,
   "metadata": {},
   "outputs": [],
   "source": [
    "context_query = \"\"\"\n",
    "You are a very experienced data engineer whose job is to write correct SQL queries. Given below is a description of four tables delimited with <>. The descriptions contain information about how tables were created,\n",
    "what are the columns, their types, definitions, references to other tables using Foreign Keys and finally, first three rows as an example. \n",
    "\n",
    "<\n",
    "Table 1: Users (Information about users, their registration date and activity status)\n",
    "\n",
    "CREATE TABLE \"Users\" (\n",
    "    \"UserId\" INTEGER NOT NULL (unique identifier of an user),\n",
    "    \"RegDate\" DATE NOT NULL (date of registration),\n",
    "    \"Status\" NVARCHAR(220) (status of the user: active or passive),\n",
    "    PRIMARY KEY (\"UserId\")\n",
    ")\n",
    "\n",
    "SELECT * FROM \"Users\" LIMIT 3;\n",
    "UserId RegDate Status\n",
    "120\t2023-03-04\tpassive\n",
    "345\t2023-03-19\tactive\n",
    "533\t2021-07-24\tpassive\n",
    ">\n",
    "\n",
    "<\n",
    "Table 2: UserActivity (Information about users visit to the website. It contains history of dates of visitis, channels of visit: direct visit or through clicking an advertisement of marketing campaign. \\ \n",
    "If visit happened by clicking the ad then corresponding campaign Id is also provided.)\n",
    "\n",
    "CREATE TABLE \"UserActivity\" (\n",
    "    \"VisitId\" INTEGER NOT NULL (unique identifier of a user's visit to website),\n",
    "    \"UserId\" INTEGER NOT NULL (Id of an user),\n",
    "    \"VisitDate\" DATE (date of visit),\n",
    "    \"Click\" BOOLEAN (if user visited website after clicking an advertisement of marketing campaign on some platform (Google, LinkedIn, Facebook, Bing) then 1, otherwise 0),\n",
    "    \"CampaignId\" INTEGER (Id of marketing campaign. If user arrived at website directly without advertisement then CampaignId is 999),\n",
    "    PRIMARY KEY (\"VisitId\"),\n",
    "    FOREIGN KEY(\"UserId\") REFERENCES \"Users\" (\"UserId\"),\n",
    "    FOREIGN KEY(\"CampaignId\") REFERENCES \"CampaignActivity\" (\"CampaignId\")\n",
    ")\n",
    "\n",
    "SELECT * FROM \"UserActivity\" LIMIT 3;\n",
    "VisitId UserId VisitDate Click CampaignId\n",
    "23\t5259\t2021-11-27\t1\t25\n",
    "24\t708\t    2023-05-18\t1\t29\n",
    "46\t7601\t2022-11-04\t0\t7\n",
    ">\n",
    "\n",
    "<\n",
    "Table 3: CampaignActivity (Information about unique marketing campaigns with starting and ending dates, cost of campaign and the platform where the advertisements/campaigns are/were running (LinkedIn, Google, Facebook, Bing))\n",
    "\n",
    "CREATE TABLE \"CampaignActivity\" (\n",
    "    \"CampaignId\" INTEGER NOT NULL (unique id of marketing campaign),\n",
    "    \"Platform\" TEXT NOT NULL (a platform/social media where the advertisement/campaign is/was running),\n",
    "    \"AdStartDate\" DATE (start date of advertisement/campaign),\n",
    "    \"AdEndDate\" DATE (end date of advertisement/campaign),\n",
    "    \"Cost\" REAL (cost of given advertisement/campaign in USD),\n",
    "    PRIMARY KEY (\"CampaignId\")\n",
    ")\n",
    "\n",
    "SELECT * FROM \"CampaignActivity\" LIMIT 3;\n",
    "CampaignId Platform AdStartDate AdEndDate Cost\n",
    "1\tGoogle\t 2022-06-22\t 2022-06-27\t154.74\n",
    "2\tFacebook 2023-02-14\t 2023-03-12\t894.79\n",
    "3\tGoogle\t 2022-12-20\t 2023-01-18\t897.17\n",
    ">\n",
    "\n",
    "<\n",
    "TABLE 4: Customers (Information about clients/customers of marketing agency. Customers are not users. Customers pay money to marketing agency for advertisements/campaigns.)\n",
    "\n",
    "CREATE TABLE \"Customers\" (\n",
    "    \"CustomerId\" INTEGER NOT NULL (unique identifier of client/customer),\n",
    "    \"Name\" TEXT NOT NULL (full name of the customer),\n",
    "    \"Email\" TEXT NOT NULL (email of the customer),\n",
    "    \"Status\" TEXT NOT NULL (status of the customer: active or passive),\n",
    "    \"CreatedAt\" DATAE  (date of account creation/registration),\n",
    "    PRIMARY KEY (\"CustomerId\")\n",
    ")\n",
    "\n",
    "SELECT * FROM \"Customers\" LIMIT 3;\n",
    "CustomerId Name Email Status CreatedAt\n",
    "36868\tElla Lewis\tella.lewis@example.com\tinactive\t2022-06-17\n",
    "49449\tAva Miller\tava.miller@example.com\tactive\t    2021-12-18\n",
    "50287\tMichael Rodriguez\tmichael.rodriguez@gmail.com\tinactive\t2022-07-03\n",
    ">\n",
    "\n",
    "Carefully analyze tables above and write proper SQL query for the following instructions delimited by triple backticks ```{user_text}```\n",
    "\n",
    "For the definition of specific terminology you can use following: {def_terminology}\n",
    "\n",
    "Write query in ClickHouse SQL.\n",
    "\n",
    "Do not hallucinate. Don't use columns that aren't available in table. Use joins to other tables to find appropriate columns.\n",
    "\n",
    "result must be just a sql query and nothing else!\n",
    "\"\"\""
   ]
  },
  {
   "cell_type": "code",
   "execution_count": 102,
   "metadata": {},
   "outputs": [],
   "source": [
    "def_terminology = \"\"\"\n",
    "CPC - Cost per Click (calculated as sum of total cost of advertisement/campaign divided by total number of clicks)\n",
    "\"\"\""
   ]
  },
  {
   "attachments": {},
   "cell_type": "markdown",
   "metadata": {},
   "source": [
    "### Check Context Before Generating Query"
   ]
  },
  {
   "cell_type": "code",
   "execution_count": 103,
   "metadata": {},
   "outputs": [],
   "source": [
    "db_context = f\"\"\"\n",
    "<\n",
    "Table 1: Users (Information about users, their registration date and activity status)\n",
    "\n",
    "CREATE TABLE \"Users\" (\n",
    "    \"UserId\" INTEGER NOT NULL (unique identifier of an user),\n",
    "    \"RegDate\" DATE NOT NULL (date of registration),\n",
    "    \"Status\" NVARCHAR(220) (status of the user: active or passive),\n",
    "    PRIMARY KEY (\"UserId\")\n",
    ")\n",
    "\n",
    "SELECT * FROM \"Users\" LIMIT 3;\n",
    "UserId RegDate Status\n",
    "120\t2023-03-04\tpassive\n",
    "345\t2023-03-19\tactive\n",
    "533\t2021-07-24\tpassive\n",
    ">\n",
    "\n",
    "<\n",
    "Table 2: UserActivity (Information about users visit to the website. It contains history of dates of visitis, channels of visit: direct visit or through clicking an advertisement of marketing campaign. \\ \n",
    "If visit happened by clicking the ad then corresponding campaign Id is also provided.)\n",
    "\n",
    "CREATE TABLE \"UserActivity\" (\n",
    "    \"VisitId\" INTEGER NOT NULL (unique identifier of a user's visit to website),\n",
    "    \"UserId\" INTEGER NOT NULL (Id of an user),\n",
    "    \"VisitDate\" DATE (date of visit),\n",
    "    \"Click\" BOOLEAN (if user visited website after clicking an advertisement of marketing campaign on some platform (Google, LinkedIn, Facebook, Bing) then 1, otherwise 0),\n",
    "    \"CampaignId\" INTEGER (Id of marketing campaign. If user arrived at website directly without advertisement then CampaignId is 999),\n",
    "    PRIMARY KEY (\"VisitId\"),\n",
    "    FOREIGN KEY(\"UserId\") REFERENCES \"Users\" (\"UserId\"),\n",
    "    FOREIGN KEY(\"CampaignId\") REFERENCES \"CampaignActivity\" (\"CampaignId\")\n",
    ")\n",
    "\n",
    "SELECT * FROM \"UserActivity\" LIMIT 3;\n",
    "VisitId UserId VisitDate Click CampaignId\n",
    "23\t5259\t2021-11-27\t1\t25\n",
    "24\t708\t    2023-05-18\t1\t29\n",
    "46\t7601\t2022-11-04\t0\t7\n",
    ">\n",
    "\n",
    "<\n",
    "Table 3: CampaignActivity (Information about unique marketing campaigns with starting and ending dates, cost of campaign and the platform where the advertisements/campaigns are/were running (LinkedIn, Google, Facebook, Bing))\n",
    "\n",
    "CREATE TABLE \"CampaignActivity\" (\n",
    "    \"CampaignId\" INTEGER NOT NULL (unique id of marketing campaign),\n",
    "    \"Platform\" TEXT NOT NULL (a platform/social media where the advertisement/campaign is/was running),\n",
    "    \"AdStartDate\" DATE (start date of advertisement/campaign),\n",
    "    \"AdEndDate\" DATE (end date of advertisement/campaign),\n",
    "    \"Cost\" REAL (cost of given advertisement/campaign in USD),\n",
    "    PRIMARY KEY (\"CampaignId\")\n",
    ")\n",
    "\n",
    "SELECT * FROM \"CampaignActivity\" LIMIT 3;\n",
    "CampaignId Platform AdStartDate AdEndDate Cost\n",
    "1\tGoogle\t 2022-06-22\t 2022-06-27\t154.74\n",
    "2\tFacebook 2023-02-14\t 2023-03-12\t894.79\n",
    "3\tGoogle\t 2022-12-20\t 2023-01-18\t897.17\n",
    ">\n",
    "\n",
    "<\n",
    "TABLE 4: Customers (Information about clients/customers of marketing agency. Customers are not users. Customers pay money to marketing agency for advertisements/campaigns.)\n",
    "\n",
    "CREATE TABLE \"Customers\" (\n",
    "    \"CustomerId\" INTEGER NOT NULL (unique identifier of client/customer),\n",
    "    \"Name\" TEXT NOT NULL (full name of the customer),\n",
    "    \"Email\" TEXT NOT NULL (email of the customer),\n",
    "    \"Status\" TEXT NOT NULL (status of the customer: active or passive),\n",
    "    \"CreatedAt\" DATAE  (date of account creation/registration),\n",
    "    PRIMARY KEY (\"CustomerId\")\n",
    ")\n",
    "\n",
    "SELECT * FROM \"Customers\" LIMIT 3;\n",
    "CustomerId Name Email Status CreatedAt\n",
    "36868\tElla Lewis\tella.lewis@example.com\tinactive\t2022-06-17\n",
    "49449\tAva Miller\tava.miller@example.com\tactive\t    2021-12-18\n",
    "50287\tMichael Rodriguez\tmichael.rodriguez@gmail.com\tinactive\t2022-07-03\n",
    ">\n",
    "\n",
    "For the definition of specific terminology you can use following: {def_terminology}\n",
    "\"\"\""
   ]
  },
  {
   "cell_type": "code",
   "execution_count": 104,
   "metadata": {},
   "outputs": [],
   "source": [
    "context_checker = \"\"\"\"\n",
    "You're the best data engineer in the world. You are an expert in analytics and SQL. Given the database tables described in triple backticks ```{db_context}```, can I write SQL query using tables mentiond above to \\\n",
    "asnwer the following question: {user_input}. \n",
    "your answer must be Yes or No and nothing more or less!\n",
    "\"\"\""
   ]
  },
  {
   "cell_type": "code",
   "execution_count": 105,
   "metadata": {},
   "outputs": [
    {
     "name": "stdout",
     "output_type": "stream",
     "text": [
      "Yes.\n"
     ]
    }
   ],
   "source": [
    "prompt_context_checker = PromptTemplate.from_template(context_checker)\n",
    "chain_context = LLMChain(llm=llm, prompt = prompt_context_checker)\n",
    "result_context_checker = chain_context.run(db_context=db_context, user_input=user_input)\n",
    "print(result_context_checker)"
   ]
  },
  {
   "cell_type": "code",
   "execution_count": 98,
   "metadata": {},
   "outputs": [
    {
     "data": {
      "text/plain": [
       "True"
      ]
     },
     "execution_count": 98,
     "metadata": {},
     "output_type": "execute_result"
    }
   ],
   "source": [
    "result_context_checker == 'Yes.'"
   ]
  },
  {
   "attachments": {},
   "cell_type": "markdown",
   "metadata": {},
   "source": [
    "### Develop Chain for Correct Query Generation"
   ]
  },
  {
   "cell_type": "code",
   "execution_count": 70,
   "metadata": {},
   "outputs": [],
   "source": [
    "prompt_query = PromptTemplate.from_template(context_query)"
   ]
  },
  {
   "cell_type": "code",
   "execution_count": 71,
   "metadata": {},
   "outputs": [],
   "source": [
    "chain_query = LLMChain(llm=llm, prompt = prompt_query)\n",
    "\n",
    "result_query_init = chain_query.run(user_text=user_input, def_terminology=def_terminology)"
   ]
  },
  {
   "cell_type": "code",
   "execution_count": 72,
   "metadata": {},
   "outputs": [
    {
     "name": "stdout",
     "output_type": "stream",
     "text": [
      "SELECT \n",
      "    ca.Platform,\n",
      "    ca.CampaignId,\n",
      "    ca.AdStartDate,\n",
      "    ca.AdEndDate,\n",
      "    SUM(ca.Cost) / COUNT(ua.VisitId) AS CPC\n",
      "FROM \n",
      "    CampaignActivity ca\n",
      "JOIN \n",
      "    UserActivity ua ON ca.CampaignId = ua.CampaignId\n",
      "JOIN \n",
      "    Users u ON ua.UserId = u.UserId\n",
      "WHERE \n",
      "    ca.Platform IN ('Facebook', 'Google', 'LinkedIn') AND\n",
      "    ca.AdStartDate >= '2022-01-01' AND ca.AdEndDate <= '2022-12-31'\n",
      "GROUP BY \n",
      "    ca.Platform,\n",
      "    ca.CampaignId,\n",
      "    ca.AdStartDate,\n",
      "    ca.AdEndDate\n",
      "ORDER BY \n",
      "    CPC ASC\n",
      "LIMIT 1;\n"
     ]
    }
   ],
   "source": [
    "print(result_query_init)"
   ]
  },
  {
   "attachments": {},
   "cell_type": "markdown",
   "metadata": {},
   "source": [
    "### Check The Syntax for Generated Query"
   ]
  },
  {
   "cell_type": "code",
   "execution_count": 94,
   "metadata": {},
   "outputs": [],
   "source": [
    "sanity_check = \"\"\"\n",
    "You're the best data engineer in the world. You are an expert in SQL. Given the SQL query in triple backticks ```{result_query_init}```. \\\n",
    "If the syntax of query is correct then return it without any changes, otherwise make apporpriate changes and return new query.\n",
    "Your output in both cases must be query only!\n",
    "\"\"\""
   ]
  },
  {
   "cell_type": "code",
   "execution_count": 95,
   "metadata": {},
   "outputs": [],
   "source": [
    "prompt_sanity = PromptTemplate.from_template(sanity_check)\n",
    "\n",
    "chain_sanity = LLMChain(llm=llm, prompt = prompt_sanity)\n",
    "\n",
    "result_query_final = chain_sanity.run(result_query_init = result_query_init)"
   ]
  },
  {
   "cell_type": "code",
   "execution_count": 96,
   "metadata": {},
   "outputs": [
    {
     "name": "stdout",
     "output_type": "stream",
     "text": [
      "SELECT \n",
      "    ca.Platform,\n",
      "    ca.CampaignId,\n",
      "    ca.AdStartDate,\n",
      "    ca.AdEndDate,\n",
      "    SUM(ca.Cost) / COUNT(ua.VisitId) AS CPC\n",
      "FROM \n",
      "    CampaignActivity ca\n",
      "JOIN \n",
      "    UserActivity ua ON ca.CampaignId = ua.CampaignId\n",
      "JOIN \n",
      "    Users u ON ua.UserId = u.UserId\n",
      "WHERE \n",
      "    ca.Platform IN ('Facebook', 'Google', 'LinkedIn') AND\n",
      "    ca.AdStartDate >= '2022-01-01' AND ca.AdEndDate <= '2022-12-31'\n",
      "GROUP BY \n",
      "    ca.Platform,\n",
      "    ca.CampaignId,\n",
      "    ca.AdStartDate,\n",
      "    ca.AdEndDate\n",
      "ORDER BY \n",
      "    CPC ASC\n",
      "LIMIT 1;\n"
     ]
    }
   ],
   "source": [
    "print(result_query_final)"
   ]
  },
  {
   "attachments": {},
   "cell_type": "markdown",
   "metadata": {},
   "source": [
    "### Run The Final Query Against Database"
   ]
  },
  {
   "cell_type": "code",
   "execution_count": 97,
   "metadata": {},
   "outputs": [
    {
     "name": "stdout",
     "output_type": "stream",
     "text": [
      "['LinkedIn', '25', '2022-09-26', '2022-10-19', '324.010009765625']\n"
     ]
    }
   ],
   "source": [
    "result_from_db = client.command(result_query_final)\n",
    "print(result_from_db)"
   ]
  }
 ],
 "metadata": {
  "kernelspec": {
   "display_name": "text2sql_env",
   "language": "python",
   "name": "python3"
  },
  "language_info": {
   "codemirror_mode": {
    "name": "ipython",
    "version": 3
   },
   "file_extension": ".py",
   "mimetype": "text/x-python",
   "name": "python",
   "nbconvert_exporter": "python",
   "pygments_lexer": "ipython3",
   "version": "3.10.11"
  },
  "orig_nbformat": 4
 },
 "nbformat": 4,
 "nbformat_minor": 2
}
