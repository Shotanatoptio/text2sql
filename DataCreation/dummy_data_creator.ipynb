{
 "cells": [
  {
   "attachments": {},
   "cell_type": "markdown",
   "metadata": {},
   "source": [
    "### Importing libraries"
   ]
  },
  {
   "cell_type": "code",
   "execution_count": 1,
   "metadata": {},
   "outputs": [],
   "source": [
    "import pandas as pd\n",
    "import numpy as np\n",
    "import clickhouse_connect\n",
    "from dotenv import dotenv_values\n",
    "import random\n",
    "from datetime import datetime, timedelta"
   ]
  },
  {
   "attachments": {},
   "cell_type": "markdown",
   "metadata": {},
   "source": [
    "### Load Credentials"
   ]
  },
  {
   "cell_type": "code",
   "execution_count": 2,
   "metadata": {},
   "outputs": [],
   "source": [
    "env_vars = dotenv_values('/root/text2sql/Credentials/.env')\n",
    "host = env_vars['host']\n",
    "port = int(env_vars['port'])\n",
    "username = env_vars['user']\n",
    "password = env_vars['password']"
   ]
  },
  {
   "attachments": {},
   "cell_type": "markdown",
   "metadata": {},
   "source": [
    "### Construct ClickHouse Connection Client"
   ]
  },
  {
   "cell_type": "code",
   "execution_count": 3,
   "metadata": {},
   "outputs": [],
   "source": [
    "client = clickhouse_connect.get_client(host=host, port=port, secure=True, username=username, password=password)"
   ]
  },
  {
   "attachments": {},
   "cell_type": "markdown",
   "metadata": {},
   "source": [
    "## Simulating and Creating Dummy Tables"
   ]
  },
  {
   "attachments": {},
   "cell_type": "markdown",
   "metadata": {},
   "source": [
    "### Table: Agency Customers (CustomerId Primary Key, Name, Email, Status, CreatedAt) "
   ]
  },
  {
   "cell_type": "code",
   "execution_count": 4,
   "metadata": {},
   "outputs": [],
   "source": [
    "# Generate random customer names\n",
    "def gen_random_name():\n",
    "    first_names = ['John', 'Alice', 'Robert', 'Emily', 'Michael', 'Emma', 'David', 'Olivia', 'Daniel', 'Sophia',\n",
    "                   'James', 'Lily', 'William', 'Grace', 'Benjamin', 'Charlotte', 'Andrew', 'Ava', 'Joseph', 'Mia',\n",
    "                   'Henry', 'Ella', 'Alexander', 'Lucy']\n",
    "    \n",
    "    last_names = ['Smith', 'Johnson', 'Brown', 'Davis', 'Miller', 'Wilson', 'Moore', 'Taylor', 'Anderson', 'Thomas',\n",
    "                  'Jackson', 'White', 'Harris', 'Martin', 'Thompson', 'Garcia', 'Martinez', 'Robinson', 'Clark', 'Rodriguez',\n",
    "                  'Lewis', 'Lee', 'Walker', 'Hall', 'Allen']\n",
    "    \n",
    "    return random.choice(first_names), random.choice(last_names)\n",
    "\n",
    "# Generate random email addresses\n",
    "def gen_random_email(first_name, last_name):\n",
    "    domains = ['gmail.com', 'yahoo.com', 'hotmail.com', 'example.com', 'domain.com']\n",
    "    email_prefix = f\"{first_name.lower()}.{last_name.lower()}\"\n",
    "    return f\"{email_prefix}@{random.choice(domains)}\"\n",
    "\n",
    "# Generate random status\n",
    "def gen_random_status():\n",
    "    statuses = ['active', 'inactive']\n",
    "    return random.choice(statuses)\n",
    "\n",
    "# Generate random created_at dates between November 1, 2021 and June 27, 2023\n",
    "def gen_random_created_at():\n",
    "    start_date = datetime(2021, 11, 1)\n",
    "    end_date = datetime(2023, 6, 27)\n",
    "    time_between_dates = end_date - start_date\n",
    "    random_number_of_days = random.randrange(time_between_dates.days)\n",
    "    random_date = start_date + timedelta(days=random_number_of_days)\n",
    "    return random_date.strftime('%Y-%m-%d')\n",
    "\n",
    "# Generate 100 values for the table columns\n",
    "num_values = 100\n",
    "used_customer_ids = set()\n",
    "\n",
    "data = []\n",
    "for _ in range(num_values):\n",
    "    customer_id = random.randint(1, 1000000)\n",
    "    while customer_id in used_customer_ids:\n",
    "        customer_id = random.randint(1, 1000000)\n",
    "    used_customer_ids.add(customer_id)\n",
    "\n",
    "    first_name, last_name = gen_random_name()\n",
    "    email = gen_random_email(first_name, last_name)\n",
    "    status = gen_random_status()\n",
    "    created_at = gen_random_created_at()\n",
    "\n",
    "    data.append([customer_id, f\"{first_name} {last_name}\", email, status, created_at])\n",
    "\n",
    "# Create a DataFrame from the data\n",
    "df_customers = pd.DataFrame(data, columns=['Customer_id', 'name', 'email', 'status', 'created_at'])\n",
    "df_customers['created_at'] = pd.to_datetime(df_customers['created_at']).dt.date"
   ]
  },
  {
   "cell_type": "code",
   "execution_count": 5,
   "metadata": {},
   "outputs": [
    {
     "data": {
      "text/plain": [
       "''"
      ]
     },
     "execution_count": 5,
     "metadata": {},
     "output_type": "execute_result"
    }
   ],
   "source": [
    "# Create Customers table into ClickHouse\n",
    "client.command('CREATE OR REPLACE TABLE Customers ('\n",
    "               'CustomerId UInt32,'\n",
    "               'Name String,'\n",
    "               'Email String,'\n",
    "               'Status String,'\n",
    "               'CreatedAt Date,'\n",
    "               'PRIMARY KEY (CustomerId))'\n",
    "               'ENGINE = MergeTree()'\n",
    "               'ORDER BY CustomerId')"
   ]
  },
  {
   "cell_type": "code",
   "execution_count": 6,
   "metadata": {},
   "outputs": [],
   "source": [
    "# Insert data into table\n",
    "data_customers = df_customers.values.tolist()\n",
    "client.insert('Customers', data_customers, column_names=['CustomerId', 'Name', 'Email', 'Status', 'CreatedAt'])"
   ]
  },
  {
   "attachments": {},
   "cell_type": "markdown",
   "metadata": {},
   "source": [
    "### Table: Users (UserId Primary Key, RegDate, Status)"
   ]
  },
  {
   "cell_type": "code",
   "execution_count": 17,
   "metadata": {},
   "outputs": [],
   "source": [
    "def gen_user_id():\n",
    "    return random.randint(1, 10000)\n",
    "\n",
    "def gen_registration_date():\n",
    "    start_date = datetime(2021, 1, 1)\n",
    "    end_date = datetime(2023, 6, 27)\n",
    "    random_date = start_date + timedelta(days=random.randint(0, (end_date - start_date).days))\n",
    "    return random_date.strftime(\"%Y-%m-%d\")\n",
    "\n",
    "def gen_status():\n",
    "    return random.choice(['active', 'passive'])\n",
    "\n",
    "# Simulating 100 values\n",
    "num_values = 50\n",
    "table_values = []\n",
    "\n",
    "for _ in range(num_values):\n",
    "    user_id = gen_user_id()\n",
    "    reg_date = gen_registration_date()\n",
    "    status = gen_status()\n",
    "    table_values.append((user_id, reg_date, status))\n",
    "\n",
    "# Creating the final DataFrame\n",
    "df_users = pd.DataFrame(table_values, columns= ['UserID', 'RegDate', 'Status'])\n",
    "df_users['RegDate'] = pd.to_datetime(df_users['RegDate']).dt.date"
   ]
  },
  {
   "cell_type": "code",
   "execution_count": 18,
   "metadata": {},
   "outputs": [
    {
     "data": {
      "text/plain": [
       "''"
      ]
     },
     "execution_count": 18,
     "metadata": {},
     "output_type": "execute_result"
    }
   ],
   "source": [
    "# Create Users table into ClickHouse\n",
    "client.command('CREATE OR REPLACE TABLE Users ('\n",
    "               'UserId UInt32,'\n",
    "               'RegDate Date,'\n",
    "               'Status String,'\n",
    "               'PRIMARY KEY (UserId))'\n",
    "               'ENGINE = MergeTree()'\n",
    "               'ORDER BY UserId')"
   ]
  },
  {
   "cell_type": "code",
   "execution_count": 19,
   "metadata": {},
   "outputs": [],
   "source": [
    "# Insert data into table\n",
    "data_users = df_users.values.tolist()\n",
    "client.insert('Users', data_users, column_names=['UserId', 'RegDate', 'Status'])"
   ]
  },
  {
   "attachments": {},
   "cell_type": "markdown",
   "metadata": {},
   "source": [
    "### Table: UserActivity (VisitId Primary Key, UserId, VisitDate, ThroughClick, CampaignId)"
   ]
  },
  {
   "cell_type": "code",
   "execution_count": 64,
   "metadata": {},
   "outputs": [],
   "source": [
    "user_ids = list(df_users['UserID'].unique())\n",
    "\n",
    "def gen_visit_id(visit_ids):\n",
    "    visit_id = random.randint(1, 10000)\n",
    "    while visit_id in visit_ids:\n",
    "        visit_id = random.randint(1, 10000)\n",
    "    return visit_id\n",
    "\n",
    "def gen_visit_date():\n",
    "    start_date = datetime(2021, 1, 1)\n",
    "    end_date = datetime(2023, 6, 27)\n",
    "    random_date = start_date + timedelta(days=random.randint(0, (end_date - start_date).days))\n",
    "    return random_date.strftime(\"%Y-%m-%d\")\n",
    "\n",
    "def gen_through_click():\n",
    "    return random.choice([True, False])\n",
    "\n",
    "def gen_campaign_id(through_click):\n",
    "    if not through_click:\n",
    "        return 999\n",
    "    return random.randint(1, 30)\n",
    "\n",
    "# Simulating 1000 samples of visits\n",
    "num_samples = 1000\n",
    "visit_data = []\n",
    "visit_ids = set()\n",
    "\n",
    "for _ in range(num_samples):\n",
    "    visit_id = gen_visit_id(visit_ids)\n",
    "    visit_ids.add(visit_id)\n",
    "    user_id = random.choice(user_ids)\n",
    "    visit_date = gen_visit_date()\n",
    "    click = gen_through_click()\n",
    "    campaign_id = gen_campaign_id(click)\n",
    "    visit_data.append((visit_id, user_id, visit_date, click, campaign_id))\n",
    "\n",
    "# Creating the final DataFrame\n",
    "df_activity = pd.DataFrame(visit_data, columns=['VisitId', 'UserId', 'VisitDate', 'Click', 'CampaignId'])\n",
    "df_activity['VisitDate'] = pd.to_datetime(df_activity['VisitDate']).dt.date"
   ]
  },
  {
   "cell_type": "code",
   "execution_count": 65,
   "metadata": {},
   "outputs": [
    {
     "data": {
      "text/html": [
       "<div>\n",
       "<style scoped>\n",
       "    .dataframe tbody tr th:only-of-type {\n",
       "        vertical-align: middle;\n",
       "    }\n",
       "\n",
       "    .dataframe tbody tr th {\n",
       "        vertical-align: top;\n",
       "    }\n",
       "\n",
       "    .dataframe thead th {\n",
       "        text-align: right;\n",
       "    }\n",
       "</style>\n",
       "<table border=\"1\" class=\"dataframe\">\n",
       "  <thead>\n",
       "    <tr style=\"text-align: right;\">\n",
       "      <th></th>\n",
       "      <th>VisitId</th>\n",
       "      <th>UserId</th>\n",
       "      <th>VisitDate</th>\n",
       "      <th>Click</th>\n",
       "      <th>CampaignId</th>\n",
       "    </tr>\n",
       "  </thead>\n",
       "  <tbody>\n",
       "    <tr>\n",
       "      <th>995</th>\n",
       "      <td>1033</td>\n",
       "      <td>575</td>\n",
       "      <td>2022-12-23</td>\n",
       "      <td>False</td>\n",
       "      <td>999</td>\n",
       "    </tr>\n",
       "    <tr>\n",
       "      <th>996</th>\n",
       "      <td>9563</td>\n",
       "      <td>3717</td>\n",
       "      <td>2021-04-12</td>\n",
       "      <td>False</td>\n",
       "      <td>999</td>\n",
       "    </tr>\n",
       "    <tr>\n",
       "      <th>997</th>\n",
       "      <td>9669</td>\n",
       "      <td>774</td>\n",
       "      <td>2022-10-26</td>\n",
       "      <td>True</td>\n",
       "      <td>3</td>\n",
       "    </tr>\n",
       "    <tr>\n",
       "      <th>998</th>\n",
       "      <td>8481</td>\n",
       "      <td>1322</td>\n",
       "      <td>2022-06-11</td>\n",
       "      <td>False</td>\n",
       "      <td>999</td>\n",
       "    </tr>\n",
       "    <tr>\n",
       "      <th>999</th>\n",
       "      <td>3882</td>\n",
       "      <td>5417</td>\n",
       "      <td>2021-03-28</td>\n",
       "      <td>True</td>\n",
       "      <td>28</td>\n",
       "    </tr>\n",
       "  </tbody>\n",
       "</table>\n",
       "</div>"
      ],
      "text/plain": [
       "     VisitId  UserId   VisitDate  Click  CampaignId\n",
       "995     1033     575  2022-12-23  False         999\n",
       "996     9563    3717  2021-04-12  False         999\n",
       "997     9669     774  2022-10-26   True           3\n",
       "998     8481    1322  2022-06-11  False         999\n",
       "999     3882    5417  2021-03-28   True          28"
      ]
     },
     "execution_count": 65,
     "metadata": {},
     "output_type": "execute_result"
    }
   ],
   "source": [
    "df_activity.tail()"
   ]
  },
  {
   "cell_type": "code",
   "execution_count": 66,
   "metadata": {},
   "outputs": [
    {
     "data": {
      "text/plain": [
       "''"
      ]
     },
     "execution_count": 66,
     "metadata": {},
     "output_type": "execute_result"
    }
   ],
   "source": [
    "# Create Users table into ClickHouse\n",
    "client.command('CREATE OR REPLACE TABLE UserActivity ('\n",
    "               'VisitId UInt32,'\n",
    "               'UserId UInt32,'\n",
    "               'VisitDate Date,'\n",
    "               'Click UInt8,'\n",
    "               'CampaignId UInt32,'\n",
    "               'PRIMARY KEY (VisitId))'\n",
    "               'ENGINE = MergeTree()'\n",
    "               'ORDER BY VisitId')"
   ]
  },
  {
   "cell_type": "code",
   "execution_count": 67,
   "metadata": {},
   "outputs": [],
   "source": [
    "# Insert data into table\n",
    "data_activity = df_activity.values.tolist()\n",
    "client.insert('UserActivity', data_activity, column_names=['VisitId', 'UserId', 'VisitDate', 'Click', 'CampaignId'])"
   ]
  },
  {
   "cell_type": "code",
   "execution_count": 45,
   "metadata": {},
   "outputs": [
    {
     "data": {
      "text/plain": [
       "31"
      ]
     },
     "execution_count": 45,
     "metadata": {},
     "output_type": "execute_result"
    }
   ],
   "source": [
    "len(list(df_activity['CampaignId'].unique()))"
   ]
  },
  {
   "attachments": {},
   "cell_type": "markdown",
   "metadata": {},
   "source": [
    "### Table: CampaignActivity (CampaignId Primary Key, Platform, AdStartDate, AdEndDate, TotalCost)"
   ]
  },
  {
   "cell_type": "code",
   "execution_count": 68,
   "metadata": {},
   "outputs": [],
   "source": [
    "campaign_ids = list(df_activity['CampaignId'].unique())\n",
    "campaign_ids.remove(999)\n",
    "\n",
    "def generate_platform():\n",
    "    platforms = ['Facebook', 'Google', 'LinkedIn', 'Bing']\n",
    "    return random.choice(platforms)\n",
    "\n",
    "def generate_ad_dates():\n",
    "    start_date = datetime(2021, 1, 1)\n",
    "    end_date = datetime(2023, 6, 27)\n",
    "    random_start_date = start_date + timedelta(days=random.randint(0, (end_date - start_date).days))\n",
    "    random_end_date = random_start_date + timedelta(days=random.randint(1, 30))\n",
    "    return random_start_date.strftime(\"%Y-%m-%d\"), random_end_date.strftime(\"%Y-%m-%d\")\n",
    "\n",
    "def generate_total_cost():\n",
    "    return round(random.uniform(100, 1000), 2)\n",
    "\n",
    "# Random ordering of campaign Ids\n",
    "random.shuffle(campaign_ids)\n",
    "\n",
    "# Simulating campaign activities\n",
    "campaign_data = []\n",
    "\n",
    "for campaign_id in campaign_ids:\n",
    "    platform = generate_platform()\n",
    "    ad_start_date, ad_end_date = generate_ad_dates()\n",
    "    total_cost = generate_total_cost()\n",
    "    campaign_data.append((campaign_id, platform, ad_start_date, ad_end_date, total_cost))\n",
    "\n",
    "# Creating the final DataFrame\n",
    "df_campaign = pd.DataFrame(campaign_data, columns=['CampaignId', 'Platform', 'AdStartDate', 'AdEndDate', 'Cost'])\n",
    "df_campaign['AdStartDate'] = pd.to_datetime(df_campaign['AdStartDate']).dt.date\n",
    "df_campaign['AdEndDate'] = pd.to_datetime(df_campaign['AdEndDate']).dt.date\n",
    "df_campaign['CampaignId'] = df_campaign['CampaignId'].astype('UInt32')\n",
    "df_campaign['Cost'] = df_campaign['Cost'].astype(np.float32)"
   ]
  },
  {
   "cell_type": "code",
   "execution_count": 69,
   "metadata": {},
   "outputs": [
    {
     "data": {
      "text/plain": [
       "''"
      ]
     },
     "execution_count": 69,
     "metadata": {},
     "output_type": "execute_result"
    }
   ],
   "source": [
    "# Create Users table into ClickHouse\n",
    "client.command('CREATE OR REPLACE TABLE CampaignActivity ('\n",
    "               'CampaignId UInt32,'\n",
    "               'Platform String,'\n",
    "               'AdStartDate Date,'\n",
    "               'AdEndDate Date,'\n",
    "               'Cost Float32,'\n",
    "               'PRIMARY KEY (CampaignId))'\n",
    "               'ENGINE = MergeTree()'\n",
    "               'ORDER BY CampaignId')"
   ]
  },
  {
   "cell_type": "code",
   "execution_count": 70,
   "metadata": {},
   "outputs": [],
   "source": [
    "# Insert data into table\n",
    "data_campaign = df_campaign.values.tolist()\n",
    "client.insert('CampaignActivity', data_campaign, column_names=['CampaignId', 'Platform', 'AdStartDate', 'AdEndDate', 'Cost'])"
   ]
  },
  {
   "cell_type": "code",
   "execution_count": 29,
   "metadata": {},
   "outputs": [],
   "source": [
    "# df_customers.to_csv('/root/text2sql/data_csv/df_customers.csv')\n",
    "# df_users.to_csv('/root/text2sql/data_csv/df_users.csv')\n",
    "# df_activity.to_csv('/root/text2sql/data_csv/df_activity.csv')\n",
    "# df_campaign.to_csv('/root/text2sql/data_csv/df_campaign.csv')"
   ]
  }
 ],
 "metadata": {
  "kernelspec": {
   "display_name": "text2sql_env",
   "language": "python",
   "name": "python3"
  },
  "language_info": {
   "codemirror_mode": {
    "name": "ipython",
    "version": 3
   },
   "file_extension": ".py",
   "mimetype": "text/x-python",
   "name": "python",
   "nbconvert_exporter": "python",
   "pygments_lexer": "ipython3",
   "version": "3.10.11"
  },
  "orig_nbformat": 4
 },
 "nbformat": 4,
 "nbformat_minor": 2
}
